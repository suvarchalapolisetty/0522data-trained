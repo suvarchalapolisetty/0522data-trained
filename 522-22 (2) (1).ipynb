{
 "cells": [
  {
   "cell_type": "code",
   "execution_count": 1,
   "id": "f8b846f6",
   "metadata": {},
   "outputs": [
    {
     "name": "stdout",
     "output_type": "stream",
     "text": [
      "75%\n"
     ]
    }
   ],
   "source": [
    "print('75%')"
   ]
  },
  {
   "cell_type": "code",
   "execution_count": null,
   "id": "b8e4b394",
   "metadata": {},
   "outputs": [],
   "source": []
  },
  {
   "cell_type": "code",
   "execution_count": null,
   "id": "a66e3218",
   "metadata": {},
   "outputs": [],
   "source": [
    "print('Hello world')"
   ]
  },
  {
   "cell_type": "code",
   "execution_count": 2,
   "id": "81194190",
   "metadata": {},
   "outputs": [
    {
     "name": "stdout",
     "output_type": "stream",
     "text": [
      "Hello world\n"
     ]
    }
   ],
   "source": [
    "print('Hello world')"
   ]
  },
  {
   "cell_type": "code",
   "execution_count": 5,
   "id": "5b19c0c9",
   "metadata": {},
   "outputs": [],
   "source": [
    "x=10\n",
    "y='Hello'"
   ]
  },
  {
   "cell_type": "code",
   "execution_count": 6,
   "id": "773b9bc2",
   "metadata": {},
   "outputs": [
    {
     "name": "stdout",
     "output_type": "stream",
     "text": [
      "10\n",
      "Hello\n"
     ]
    }
   ],
   "source": [
    "print(x)\n",
    "print(y)"
   ]
  },
  {
   "cell_type": "code",
   "execution_count": 7,
   "id": "beb1b0cf",
   "metadata": {},
   "outputs": [
    {
     "name": "stdout",
     "output_type": "stream",
     "text": [
      "10 Hello\n"
     ]
    }
   ],
   "source": [
    "print(x,y)"
   ]
  },
  {
   "cell_type": "code",
   "execution_count": 8,
   "id": "42f6a8fa",
   "metadata": {},
   "outputs": [
    {
     "name": "stdout",
     "output_type": "stream",
     "text": [
      "the value of x is =  10\n"
     ]
    }
   ],
   "source": [
    "#the value of x is =10\n",
    "print('the value of x is = ' , x)"
   ]
  },
  {
   "cell_type": "code",
   "execution_count": 7,
   "id": "b0d42018",
   "metadata": {},
   "outputs": [
    {
     "ename": "SyntaxError",
     "evalue": "invalid syntax (248872232.py, line 1)",
     "output_type": "error",
     "traceback": [
      "\u001b[1;36m  Input \u001b[1;32mIn [7]\u001b[1;36m\u001b[0m\n\u001b[1;33m    print type(x)\u001b[0m\n\u001b[1;37m          ^\u001b[0m\n\u001b[1;31mSyntaxError\u001b[0m\u001b[1;31m:\u001b[0m invalid syntax\n"
     ]
    }
   ],
   "source": [
    "print type(x)\n",
    "print(type(x))\n"
   ]
  },
  {
   "cell_type": "code",
   "execution_count": 3,
   "id": "84f116ff",
   "metadata": {},
   "outputs": [
    {
     "name": "stdout",
     "output_type": "stream",
     "text": [
      "<class 'float'>\n"
     ]
    }
   ],
   "source": [
    "z=10.5\n",
    "print(type(z))"
   ]
  },
  {
   "cell_type": "code",
   "execution_count": 10,
   "id": "651b5055",
   "metadata": {},
   "outputs": [
    {
     "name": "stdout",
     "output_type": "stream",
     "text": [
      "<class 'bool'>\n"
     ]
    }
   ],
   "source": [
    "b = True\n",
    "print(type(b))"
   ]
  },
  {
   "cell_type": "code",
   "execution_count": 1,
   "id": "eb26d344",
   "metadata": {},
   "outputs": [
    {
     "data": {
      "text/plain": [
       "False"
      ]
     },
     "execution_count": 1,
     "metadata": {},
     "output_type": "execute_result"
    }
   ],
   "source": [
    "True and False"
   ]
  },
  {
   "cell_type": "code",
   "execution_count": 2,
   "id": "44474b5b",
   "metadata": {},
   "outputs": [
    {
     "data": {
      "text/plain": [
       "True"
      ]
     },
     "execution_count": 2,
     "metadata": {},
     "output_type": "execute_result"
    }
   ],
   "source": [
    "True and True"
   ]
  },
  {
   "cell_type": "code",
   "execution_count": 3,
   "id": "100e8a71",
   "metadata": {},
   "outputs": [
    {
     "data": {
      "text/plain": [
       "True"
      ]
     },
     "execution_count": 3,
     "metadata": {},
     "output_type": "execute_result"
    }
   ],
   "source": [
    "True or False"
   ]
  },
  {
   "cell_type": "code",
   "execution_count": 4,
   "id": "84f8cabb",
   "metadata": {},
   "outputs": [
    {
     "data": {
      "text/plain": [
       "False"
      ]
     },
     "execution_count": 4,
     "metadata": {},
     "output_type": "execute_result"
    }
   ],
   "source": [
    "not True"
   ]
  },
  {
   "cell_type": "code",
   "execution_count": 5,
   "id": "b4df5d55",
   "metadata": {},
   "outputs": [
    {
     "data": {
      "text/plain": [
       "True"
      ]
     },
     "execution_count": 5,
     "metadata": {},
     "output_type": "execute_result"
    }
   ],
   "source": [
    "not False"
   ]
  },
  {
   "cell_type": "code",
   "execution_count": 7,
   "id": "6d76d9b2",
   "metadata": {},
   "outputs": [
    {
     "data": {
      "text/plain": [
       "True"
      ]
     },
     "execution_count": 7,
     "metadata": {},
     "output_type": "execute_result"
    }
   ],
   "source": [
    "True is True"
   ]
  },
  {
   "cell_type": "code",
   "execution_count": 8,
   "id": "b81c5a47",
   "metadata": {},
   "outputs": [
    {
     "data": {
      "text/plain": [
       "False"
      ]
     },
     "execution_count": 8,
     "metadata": {},
     "output_type": "execute_result"
    }
   ],
   "source": [
    "True is False"
   ]
  },
  {
   "cell_type": "code",
   "execution_count": 10,
   "id": "25f24c8c",
   "metadata": {},
   "outputs": [
    {
     "name": "stderr",
     "output_type": "stream",
     "text": [
      "<>:1: SyntaxWarning: \"is\" with a literal. Did you mean \"==\"?\n",
      "<>:1: SyntaxWarning: \"is\" with a literal. Did you mean \"==\"?\n",
      "C:\\Users\\SUVARCHALA\\AppData\\Local\\Temp\\ipykernel_16220\\3303723902.py:1: SyntaxWarning: \"is\" with a literal. Did you mean \"==\"?\n",
      "  'a'is'a'\n"
     ]
    },
    {
     "data": {
      "text/plain": [
       "True"
      ]
     },
     "execution_count": 10,
     "metadata": {},
     "output_type": "execute_result"
    }
   ],
   "source": [
    "'a'is'a'"
   ]
  },
  {
   "cell_type": "code",
   "execution_count": 12,
   "id": "4937b813",
   "metadata": {},
   "outputs": [
    {
     "data": {
      "text/plain": [
       "2"
      ]
     },
     "execution_count": 12,
     "metadata": {},
     "output_type": "execute_result"
    }
   ],
   "source": [
    "True + True"
   ]
  },
  {
   "cell_type": "code",
   "execution_count": 13,
   "id": "8dd28154",
   "metadata": {},
   "outputs": [
    {
     "data": {
      "text/plain": [
       "1"
      ]
     },
     "execution_count": 13,
     "metadata": {},
     "output_type": "execute_result"
    }
   ],
   "source": [
    "True +False"
   ]
  },
  {
   "cell_type": "code",
   "execution_count": 14,
   "id": "712e7b48",
   "metadata": {},
   "outputs": [
    {
     "data": {
      "text/plain": [
       "0"
      ]
     },
     "execution_count": 14,
     "metadata": {},
     "output_type": "execute_result"
    }
   ],
   "source": [
    "False+False"
   ]
  },
  {
   "cell_type": "code",
   "execution_count": 15,
   "id": "667606e9",
   "metadata": {},
   "outputs": [
    {
     "data": {
      "text/plain": [
       "1"
      ]
     },
     "execution_count": 15,
     "metadata": {},
     "output_type": "execute_result"
    }
   ],
   "source": [
    "True - False"
   ]
  },
  {
   "cell_type": "code",
   "execution_count": 16,
   "id": "269dae50",
   "metadata": {},
   "outputs": [
    {
     "data": {
      "text/plain": [
       "0"
      ]
     },
     "execution_count": 16,
     "metadata": {},
     "output_type": "execute_result"
    }
   ],
   "source": [
    "False-False"
   ]
  },
  {
   "cell_type": "code",
   "execution_count": 17,
   "id": "2cb2e337",
   "metadata": {},
   "outputs": [
    {
     "data": {
      "text/plain": [
       "-1"
      ]
     },
     "execution_count": 17,
     "metadata": {},
     "output_type": "execute_result"
    }
   ],
   "source": [
    "False-True"
   ]
  },
  {
   "cell_type": "code",
   "execution_count": 18,
   "id": "bf1186dc",
   "metadata": {},
   "outputs": [
    {
     "data": {
      "text/plain": [
       "True"
      ]
     },
     "execution_count": 18,
     "metadata": {},
     "output_type": "execute_result"
    }
   ],
   "source": [
    "10==10"
   ]
  },
  {
   "cell_type": "code",
   "execution_count": 19,
   "id": "41cc9ba2",
   "metadata": {},
   "outputs": [
    {
     "data": {
      "text/plain": [
       "True"
      ]
     },
     "execution_count": 19,
     "metadata": {},
     "output_type": "execute_result"
    }
   ],
   "source": [
    "10<=10"
   ]
  },
  {
   "cell_type": "code",
   "execution_count": 20,
   "id": "abc32e59",
   "metadata": {},
   "outputs": [
    {
     "data": {
      "text/plain": [
       "False"
      ]
     },
     "execution_count": 20,
     "metadata": {},
     "output_type": "execute_result"
    }
   ],
   "source": [
    "False and True or False"
   ]
  },
  {
   "cell_type": "code",
   "execution_count": 21,
   "id": "667cecc2",
   "metadata": {},
   "outputs": [
    {
     "data": {
      "text/plain": [
       "True"
      ]
     },
     "execution_count": 21,
     "metadata": {},
     "output_type": "execute_result"
    }
   ],
   "source": [
    "True and False or True"
   ]
  },
  {
   "cell_type": "code",
   "execution_count": 1,
   "id": "a24e1075",
   "metadata": {},
   "outputs": [
    {
     "data": {
      "text/plain": [
       "int"
      ]
     },
     "execution_count": 1,
     "metadata": {},
     "output_type": "execute_result"
    }
   ],
   "source": [
    "# integer\n",
    "x = 1\n",
    "type(x)"
   ]
  },
  {
   "cell_type": "code",
   "execution_count": 2,
   "id": "87b02652",
   "metadata": {},
   "outputs": [
    {
     "data": {
      "text/plain": [
       "float"
      ]
     },
     "execution_count": 2,
     "metadata": {},
     "output_type": "execute_result"
    }
   ],
   "source": [
    "#float\n",
    "x=1.0\n",
    "type(x)"
   ]
  },
  {
   "cell_type": "code",
   "execution_count": 3,
   "id": "c862e90f",
   "metadata": {},
   "outputs": [
    {
     "data": {
      "text/plain": [
       "bool"
      ]
     },
     "execution_count": 3,
     "metadata": {},
     "output_type": "execute_result"
    }
   ],
   "source": [
    "#boolean\n",
    "b1 = True\n",
    "b2 = False\n",
    "type(b1)\n"
   ]
  },
  {
   "cell_type": "code",
   "execution_count": 4,
   "id": "af61fd59",
   "metadata": {},
   "outputs": [
    {
     "data": {
      "text/plain": [
       "str"
      ]
     },
     "execution_count": 4,
     "metadata": {},
     "output_type": "execute_result"
    }
   ],
   "source": [
    "#string\n",
    "name1 = 'xyz'\n",
    "type(name1)"
   ]
  },
  {
   "cell_type": "code",
   "execution_count": 5,
   "id": "9f9a55a3",
   "metadata": {},
   "outputs": [],
   "source": [
    "tenth = 10"
   ]
  },
  {
   "cell_type": "code",
   "execution_count": 6,
   "id": "ef91fd27",
   "metadata": {},
   "outputs": [
    {
     "data": {
      "text/plain": [
       "10"
      ]
     },
     "execution_count": 6,
     "metadata": {},
     "output_type": "execute_result"
    }
   ],
   "source": [
    "tenth "
   ]
  },
  {
   "cell_type": "code",
   "execution_count": 7,
   "id": "40f9a07d",
   "metadata": {},
   "outputs": [],
   "source": [
    "ten =10"
   ]
  },
  {
   "cell_type": "code",
   "execution_count": 13,
   "id": "9b83683e",
   "metadata": {},
   "outputs": [
    {
     "data": {
      "text/plain": [
       "'ten'"
      ]
     },
     "execution_count": 13,
     "metadata": {},
     "output_type": "execute_result"
    }
   ],
   "source": [
    "ten ='ten'\n",
    "ten"
   ]
  },
  {
   "cell_type": "code",
   "execution_count": 18,
   "id": "2c6c83f5",
   "metadata": {},
   "outputs": [
    {
     "data": {
      "text/plain": [
       "'xyz'"
      ]
     },
     "execution_count": 18,
     "metadata": {},
     "output_type": "execute_result"
    }
   ],
   "source": [
    "xyz = 'xyz'\n",
    "xyz"
   ]
  },
  {
   "cell_type": "code",
   "execution_count": 22,
   "id": "e88e16ab",
   "metadata": {},
   "outputs": [
    {
     "data": {
      "text/plain": [
       "'day1'"
      ]
     },
     "execution_count": 22,
     "metadata": {},
     "output_type": "execute_result"
    }
   ],
   "source": [
    "'day' + str(1)"
   ]
  },
  {
   "cell_type": "code",
   "execution_count": 24,
   "id": "654e121e",
   "metadata": {},
   "outputs": [
    {
     "ename": "NameError",
     "evalue": "name 'Print' is not defined",
     "output_type": "error",
     "traceback": [
      "\u001b[1;31m---------------------------------------------------------------------------\u001b[0m",
      "\u001b[1;31mNameError\u001b[0m                                 Traceback (most recent call last)",
      "Input \u001b[1;32mIn [24]\u001b[0m, in \u001b[0;36m<cell line: 2>\u001b[1;34m()\u001b[0m\n\u001b[0;32m      1\u001b[0m a \u001b[38;5;241m=\u001b[39m\u001b[38;5;241m20\u001b[39m\n\u001b[1;32m----> 2\u001b[0m \u001b[43mPrint\u001b[49m(a, \u001b[38;5;124m\"\u001b[39m\u001b[38;5;124mis a\u001b[39m\u001b[38;5;124m\"\u001b[39m,\u001b[38;5;28mtype\u001b[39m(a), \u001b[38;5;124m'\u001b[39m\u001b[38;5;124mtype\u001b[39m\u001b[38;5;124m'\u001b[39m)\n",
      "\u001b[1;31mNameError\u001b[0m: name 'Print' is not defined"
     ]
    }
   ],
   "source": [
    "a =20\n",
    "Print(a, \"is a\",type(a), 'type')"
   ]
  },
  {
   "cell_type": "code",
   "execution_count": 2,
   "id": "9b31af50",
   "metadata": {},
   "outputs": [
    {
     "name": "stdout",
     "output_type": "stream",
     "text": [
      "['False', 'None', 'True', '__peg_parser__', 'and', 'as', 'assert', 'async', 'await', 'break', 'class', 'continue', 'def', 'del', 'elif', 'else', 'except', 'finally', 'for', 'from', 'global', 'if', 'import', 'in', 'is', 'lambda', 'nonlocal', 'not', 'or', 'pass', 'raise', 'return', 'try', 'while', 'with', 'yield']\n"
     ]
    }
   ],
   "source": [
    "import keyword\n",
    "\n",
    "print (keyword.kwlist)"
   ]
  },
  {
   "cell_type": "code",
   "execution_count": 3,
   "id": "1c65f6ab",
   "metadata": {},
   "outputs": [
    {
     "data": {
      "text/plain": [
       "False"
      ]
     },
     "execution_count": 3,
     "metadata": {},
     "output_type": "execute_result"
    }
   ],
   "source": [
    "True and False"
   ]
  },
  {
   "cell_type": "code",
   "execution_count": 4,
   "id": "1c6e3bb3",
   "metadata": {},
   "outputs": [
    {
     "data": {
      "text/plain": [
       "True"
      ]
     },
     "execution_count": 4,
     "metadata": {},
     "output_type": "execute_result"
    }
   ],
   "source": [
    "True or false"
   ]
  },
  {
   "cell_type": "code",
   "execution_count": 5,
   "id": "026c7c37",
   "metadata": {},
   "outputs": [
    {
     "data": {
      "text/plain": [
       "False"
      ]
     },
     "execution_count": 5,
     "metadata": {},
     "output_type": "execute_result"
    }
   ],
   "source": [
    "not True"
   ]
  },
  {
   "cell_type": "code",
   "execution_count": 6,
   "id": "d64883d2",
   "metadata": {},
   "outputs": [
    {
     "data": {
      "text/plain": [
       "True"
      ]
     },
     "execution_count": 6,
     "metadata": {},
     "output_type": "execute_result"
    }
   ],
   "source": [
    "True is True"
   ]
  },
  {
   "cell_type": "code",
   "execution_count": 7,
   "id": "c268cddd",
   "metadata": {},
   "outputs": [
    {
     "data": {
      "text/plain": [
       "False"
      ]
     },
     "execution_count": 7,
     "metadata": {},
     "output_type": "execute_result"
    }
   ],
   "source": [
    "True is False"
   ]
  },
  {
   "cell_type": "code",
   "execution_count": 9,
   "id": "10c48e6c",
   "metadata": {},
   "outputs": [
    {
     "name": "stderr",
     "output_type": "stream",
     "text": [
      "<>:1: SyntaxWarning: \"is\" with a literal. Did you mean \"==\"?\n",
      "<>:1: SyntaxWarning: \"is\" with a literal. Did you mean \"==\"?\n",
      "C:\\Users\\SUVARCHALA\\AppData\\Local\\Temp\\ipykernel_18472\\3976285562.py:1: SyntaxWarning: \"is\" with a literal. Did you mean \"==\"?\n",
      "  'b' is 'c'\n"
     ]
    },
    {
     "data": {
      "text/plain": [
       "False"
      ]
     },
     "execution_count": 9,
     "metadata": {},
     "output_type": "execute_result"
    }
   ],
   "source": [
    "'b' is 'c'"
   ]
  },
  {
   "cell_type": "code",
   "execution_count": 11,
   "id": "753058d9",
   "metadata": {},
   "outputs": [
    {
     "name": "stderr",
     "output_type": "stream",
     "text": [
      "<>:1: SyntaxWarning: \"is\" with a literal. Did you mean \"==\"?\n",
      "<>:1: SyntaxWarning: \"is\" with a literal. Did you mean \"==\"?\n",
      "C:\\Users\\SUVARCHALA\\AppData\\Local\\Temp\\ipykernel_18472\\1331424972.py:1: SyntaxWarning: \"is\" with a literal. Did you mean \"==\"?\n",
      "  '10' is '11'\n"
     ]
    },
    {
     "data": {
      "text/plain": [
       "False"
      ]
     },
     "execution_count": 11,
     "metadata": {},
     "output_type": "execute_result"
    }
   ],
   "source": [
    "'10' is '11'"
   ]
  },
  {
   "cell_type": "code",
   "execution_count": 12,
   "id": "127fecab",
   "metadata": {},
   "outputs": [
    {
     "data": {
      "text/plain": [
       "2"
      ]
     },
     "execution_count": 12,
     "metadata": {},
     "output_type": "execute_result"
    }
   ],
   "source": [
    "True + True"
   ]
  },
  {
   "cell_type": "code",
   "execution_count": 13,
   "id": "a12b6142",
   "metadata": {},
   "outputs": [
    {
     "data": {
      "text/plain": [
       "1"
      ]
     },
     "execution_count": 13,
     "metadata": {},
     "output_type": "execute_result"
    }
   ],
   "source": [
    "True + False"
   ]
  },
  {
   "cell_type": "code",
   "execution_count": 14,
   "id": "d5cc668a",
   "metadata": {},
   "outputs": [
    {
     "data": {
      "text/plain": [
       "0"
      ]
     },
     "execution_count": 14,
     "metadata": {},
     "output_type": "execute_result"
    }
   ],
   "source": [
    "False + False"
   ]
  },
  {
   "cell_type": "code",
   "execution_count": 15,
   "id": "e398cc10",
   "metadata": {},
   "outputs": [
    {
     "data": {
      "text/plain": [
       "1"
      ]
     },
     "execution_count": 15,
     "metadata": {},
     "output_type": "execute_result"
    }
   ],
   "source": [
    "True - False"
   ]
  },
  {
   "cell_type": "code",
   "execution_count": 16,
   "id": "3e2964e4",
   "metadata": {},
   "outputs": [
    {
     "name": "stderr",
     "output_type": "stream",
     "text": [
      "<>:1: SyntaxWarning: \"is\" with a literal. Did you mean \"==\"?\n",
      "<>:1: SyntaxWarning: \"is\" with a literal. Did you mean \"==\"?\n",
      "C:\\Users\\SUVARCHALA\\AppData\\Local\\Temp\\ipykernel_18472\\100162287.py:1: SyntaxWarning: \"is\" with a literal. Did you mean \"==\"?\n",
      "  10 is 11\n"
     ]
    },
    {
     "data": {
      "text/plain": [
       "False"
      ]
     },
     "execution_count": 16,
     "metadata": {},
     "output_type": "execute_result"
    }
   ],
   "source": [
    "10 is 11"
   ]
  },
  {
   "cell_type": "code",
   "execution_count": 17,
   "id": "6197d49a",
   "metadata": {},
   "outputs": [
    {
     "data": {
      "text/plain": [
       "False"
      ]
     },
     "execution_count": 17,
     "metadata": {},
     "output_type": "execute_result"
    }
   ],
   "source": [
    "10 == 11"
   ]
  },
  {
   "cell_type": "code",
   "execution_count": 18,
   "id": "fe08b1eb",
   "metadata": {},
   "outputs": [
    {
     "data": {
      "text/plain": [
       "False"
      ]
     },
     "execution_count": 18,
     "metadata": {},
     "output_type": "execute_result"
    }
   ],
   "source": [
    "8 == 9"
   ]
  },
  {
   "cell_type": "code",
   "execution_count": 19,
   "id": "a90fac04",
   "metadata": {},
   "outputs": [
    {
     "name": "stderr",
     "output_type": "stream",
     "text": [
      "<>:1: SyntaxWarning: \"is\" with a literal. Did you mean \"==\"?\n",
      "<>:1: SyntaxWarning: \"is\" with a literal. Did you mean \"==\"?\n",
      "C:\\Users\\SUVARCHALA\\AppData\\Local\\Temp\\ipykernel_18472\\946114088.py:1: SyntaxWarning: \"is\" with a literal. Did you mean \"==\"?\n",
      "  8 is 9\n"
     ]
    },
    {
     "data": {
      "text/plain": [
       "False"
      ]
     },
     "execution_count": 19,
     "metadata": {},
     "output_type": "execute_result"
    }
   ],
   "source": [
    "8 is 9"
   ]
  },
  {
   "cell_type": "code",
   "execution_count": 20,
   "id": "07f2844f",
   "metadata": {},
   "outputs": [
    {
     "data": {
      "text/plain": [
       "True"
      ]
     },
     "execution_count": 20,
     "metadata": {},
     "output_type": "execute_result"
    }
   ],
   "source": [
    "10 == 10"
   ]
  },
  {
   "cell_type": "code",
   "execution_count": 21,
   "id": "fb6f358b",
   "metadata": {},
   "outputs": [
    {
     "name": "stderr",
     "output_type": "stream",
     "text": [
      "<>:1: SyntaxWarning: \"is\" with a literal. Did you mean \"==\"?\n",
      "<>:1: SyntaxWarning: \"is\" with a literal. Did you mean \"==\"?\n",
      "C:\\Users\\SUVARCHALA\\AppData\\Local\\Temp\\ipykernel_18472\\3938569512.py:1: SyntaxWarning: \"is\" with a literal. Did you mean \"==\"?\n",
      "  10 is 10\n"
     ]
    },
    {
     "data": {
      "text/plain": [
       "True"
      ]
     },
     "execution_count": 21,
     "metadata": {},
     "output_type": "execute_result"
    }
   ],
   "source": [
    "10 is 10"
   ]
  },
  {
   "cell_type": "code",
   "execution_count": 22,
   "id": "c070eb47",
   "metadata": {},
   "outputs": [
    {
     "data": {
      "text/plain": [
       "True"
      ]
     },
     "execution_count": 22,
     "metadata": {},
     "output_type": "execute_result"
    }
   ],
   "source": [
    "True and False or True"
   ]
  },
  {
   "cell_type": "code",
   "execution_count": 23,
   "id": "01b2f423",
   "metadata": {},
   "outputs": [],
   "source": [
    "a = 20"
   ]
  },
  {
   "cell_type": "code",
   "execution_count": 24,
   "id": "98c801cf",
   "metadata": {},
   "outputs": [
    {
     "name": "stdout",
     "output_type": "stream",
     "text": [
      "20\n"
     ]
    }
   ],
   "source": [
    "print (a)"
   ]
  },
  {
   "cell_type": "code",
   "execution_count": 25,
   "id": "49dcfe6d",
   "metadata": {},
   "outputs": [
    {
     "data": {
      "text/plain": [
       "int"
      ]
     },
     "execution_count": 25,
     "metadata": {},
     "output_type": "execute_result"
    }
   ],
   "source": [
    "type (a)"
   ]
  },
  {
   "cell_type": "code",
   "execution_count": 26,
   "id": "b1c999fa",
   "metadata": {},
   "outputs": [],
   "source": [
    "b = 20.0"
   ]
  },
  {
   "cell_type": "code",
   "execution_count": 33,
   "id": "1b32ea94",
   "metadata": {},
   "outputs": [
    {
     "name": "stdout",
     "output_type": "stream",
     "text": [
      "20.0\n"
     ]
    },
    {
     "data": {
      "text/plain": [
       "float"
      ]
     },
     "execution_count": 33,
     "metadata": {},
     "output_type": "execute_result"
    }
   ],
   "source": [
    "b = 20.0 \n",
    "print(b)\n",
    "type(b)"
   ]
  },
  {
   "cell_type": "code",
   "execution_count": 34,
   "id": "2fed0512",
   "metadata": {},
   "outputs": [],
   "source": [
    "a = 10\n",
    "b = 20"
   ]
  },
  {
   "cell_type": "code",
   "execution_count": 36,
   "id": "24dd6922",
   "metadata": {},
   "outputs": [
    {
     "name": "stdout",
     "output_type": "stream",
     "text": [
      "30\n"
     ]
    }
   ],
   "source": [
    "c = a+b\n",
    "print(c)"
   ]
  },
  {
   "cell_type": "code",
   "execution_count": 37,
   "id": "184af80a",
   "metadata": {},
   "outputs": [
    {
     "name": "stdout",
     "output_type": "stream",
     "text": [
      "300\n"
     ]
    }
   ],
   "source": [
    "print (c*10)"
   ]
  },
  {
   "cell_type": "code",
   "execution_count": 38,
   "id": "4704a57a",
   "metadata": {},
   "outputs": [
    {
     "name": "stdout",
     "output_type": "stream",
     "text": [
      "30\n"
     ]
    }
   ],
   "source": [
    "print (a+b)"
   ]
  },
  {
   "cell_type": "code",
   "execution_count": 39,
   "id": "a7104f09",
   "metadata": {},
   "outputs": [],
   "source": [
    "c = 6+2j"
   ]
  },
  {
   "cell_type": "code",
   "execution_count": 40,
   "id": "a0fd7501",
   "metadata": {},
   "outputs": [
    {
     "name": "stdout",
     "output_type": "stream",
     "text": [
      "(6+2j)\n"
     ]
    }
   ],
   "source": [
    "print (c)"
   ]
  },
  {
   "cell_type": "code",
   "execution_count": 41,
   "id": "483dc1d0",
   "metadata": {},
   "outputs": [
    {
     "data": {
      "text/plain": [
       "complex"
      ]
     },
     "execution_count": 41,
     "metadata": {},
     "output_type": "execute_result"
    }
   ],
   "source": [
    "type(c)"
   ]
  },
  {
   "cell_type": "code",
   "execution_count": 43,
   "id": "907348f7",
   "metadata": {},
   "outputs": [
    {
     "name": "stdout",
     "output_type": "stream",
     "text": [
      "Hello world\n"
     ]
    }
   ],
   "source": [
    "print (\"Hello world\")"
   ]
  },
  {
   "cell_type": "code",
   "execution_count": 54,
   "id": "08e9a89a",
   "metadata": {},
   "outputs": [],
   "source": [
    "first_string1 = 'Python'\n",
    "second_string2 = ' is powerful '\n",
    "third_string3 = ' language'"
   ]
  },
  {
   "cell_type": "code",
   "execution_count": 55,
   "id": "60e7acee",
   "metadata": {},
   "outputs": [
    {
     "data": {
      "text/plain": [
       "str"
      ]
     },
     "execution_count": 55,
     "metadata": {},
     "output_type": "execute_result"
    }
   ],
   "source": [
    "type(first_string1)"
   ]
  },
  {
   "cell_type": "code",
   "execution_count": 56,
   "id": "d8ac9491",
   "metadata": {},
   "outputs": [
    {
     "name": "stdout",
     "output_type": "stream",
     "text": [
      "Python is powerful  language\n"
     ]
    }
   ],
   "source": [
    "print(first_string1+second_string2+third_string3)"
   ]
  },
  {
   "cell_type": "code",
   "execution_count": 61,
   "id": "26e51ee6",
   "metadata": {},
   "outputs": [
    {
     "name": "stdout",
     "output_type": "stream",
     "text": [
      "woww phython is easy\n"
     ]
    }
   ],
   "source": [
    "print ('woww'  +  ' phython is' , 'easy')"
   ]
  },
  {
   "cell_type": "code",
   "execution_count": 63,
   "id": "18218963",
   "metadata": {},
   "outputs": [
    {
     "name": "stdout",
     "output_type": "stream",
     "text": [
      " Day Day Day Day Day\n"
     ]
    }
   ],
   "source": [
    "print (' Day' * 5 )"
   ]
  },
  {
   "cell_type": "code",
   "execution_count": 64,
   "id": "3ccdc557",
   "metadata": {},
   "outputs": [
    {
     "name": "stdout",
     "output_type": "stream",
     "text": [
      " 999  999  999  999  999  999  999  999  999  999  999  999  999  999  999  999  999  999  999  999  999  999  999  999  999  999  999  999  999  999  999  999  999  999  999  999  999  999  999  999  999  999  999  999  999  999  999  999  999  999  999  999  999  999  999  999  999  999  999  999  999  999  999  999  999  999  999  999  999  999  999  999  999  999  999  999  999  999  999  999  999  999  999  999  999  999  999  999  999  999  999  999  999  999  999  999  999  999  999  999  999  999  999  999  999  999  999  999  999  999  999  999  999  999  999  999  999  999  999  999  999  999  999  999  999  999  999  999  999  999  999  999  999  999  999  999  999  999  999  999  999  999  999  999  999  999  999  999  999  999  999  999  999  999  999  999  999  999  999  999  999  999  999  999  999  999  999  999  999  999  999  999  999  999  999  999  999  999  999  999  999  999  999  999  999  999  999  999  999  999  999  999  999  999  999  999  999  999  999  999 \n"
     ]
    }
   ],
   "source": [
    "print ( \" 999 \" *200 )"
   ]
  },
  {
   "cell_type": "code",
   "execution_count": 66,
   "id": "e3741155",
   "metadata": {},
   "outputs": [
    {
     "name": "stdout",
     "output_type": "stream",
     "text": [
      " _  _  _  _  _  _  _  _  _  _  _  _  _  _  _  _  _  _  _  _  _  _  _  _  _  _  _  _  _  _  _  _  _  _  _  _  _  _  _  _  _  _  _  _  _  _  _  _  _  _  _  _  _  _  _  _  _  _  _  _  _  _  _  _  _  _  _  _  _  _  _  _  _  _  _  _  _  _  _  _  _  _  _  _  _  _  _  _  _  _  _  _  _  _  _  _  _  _  _  _  _  _  _  _  _  _  _  _  _  _  _  _  _  _  _  _  _  _  _  _  _  _  _  _  _  _  _  _  _  _  _  _  _  _  _  _  _  _  _  _  _  _  _  _  _  _  _  _  _  _  _  _  _  _  _  _  _  _  _  _  _  _  _  _  _  _  _  _  _  _  _  _  _  _  _  _  _  _  _  _  _  _  _  _  _  _  _  _  _  _  _  _  _  _  _  _  _  _  _  _  _  _  _  _  _  _  _  _  _  _  _  _  _  _  _  _  _  _  _  _  _  _  _  _  _  _  _  _  _  _  _  _  _  _  _  _  _  _  _  _  _  _  _  _  _  _  _  _  _  _  _  _  _  _  _  _  _  _  _  _  _  _  _  _  _  _  _  _  _  _  _  _  _  _  _  _  _  _  _  _  _  _  _  _  _  _  _  _  _  _  _  _  _  _  _  _  _  _  _  _ \n"
     ]
    }
   ],
   "source": [
    "print (\" _ \" * 300 )"
   ]
  },
  {
   "cell_type": "code",
   "execution_count": 69,
   "id": "d422fe34",
   "metadata": {},
   "outputs": [
    {
     "name": "stdout",
     "output_type": "stream",
     "text": [
      "Day2\n"
     ]
    }
   ],
   "source": [
    "print (\"Day\" + \"2\" )"
   ]
  },
  {
   "cell_type": "code",
   "execution_count": 70,
   "id": "f448e317",
   "metadata": {},
   "outputs": [
    {
     "name": "stdout",
     "output_type": "stream",
     "text": [
      "day2\n"
     ]
    }
   ],
   "source": [
    "print (\"day\" +str(2))"
   ]
  },
  {
   "cell_type": "code",
   "execution_count": 72,
   "id": "098abc9f",
   "metadata": {},
   "outputs": [
    {
     "name": "stdout",
     "output_type": "stream",
     "text": [
      "day 2\n"
     ]
    }
   ],
   "source": [
    "print ('day 2')"
   ]
  },
  {
   "cell_type": "code",
   "execution_count": 73,
   "id": "327ebd20",
   "metadata": {},
   "outputs": [
    {
     "data": {
      "text/plain": [
       "{}"
      ]
     },
     "execution_count": 73,
     "metadata": {},
     "output_type": "execute_result"
    }
   ],
   "source": [
    "l = { }\n",
    "l"
   ]
  },
  {
   "cell_type": "code",
   "execution_count": 74,
   "id": "243edacd",
   "metadata": {},
   "outputs": [
    {
     "data": {
      "text/plain": [
       "[]"
      ]
     },
     "execution_count": 74,
     "metadata": {},
     "output_type": "execute_result"
    }
   ],
   "source": [
    "l = []\n",
    "l"
   ]
  },
  {
   "cell_type": "code",
   "execution_count": 75,
   "id": "74402e13",
   "metadata": {},
   "outputs": [
    {
     "data": {
      "text/plain": [
       "['a', 'b', 'c']"
      ]
     },
     "execution_count": 75,
     "metadata": {},
     "output_type": "execute_result"
    }
   ],
   "source": [
    "l = ['a' , 'b' , 'c']\n",
    "l"
   ]
  },
  {
   "cell_type": "code",
   "execution_count": 77,
   "id": "e2c11a57",
   "metadata": {},
   "outputs": [
    {
     "data": {
      "text/plain": [
       "['a', '6', '9.6']"
      ]
     },
     "execution_count": 77,
     "metadata": {},
     "output_type": "execute_result"
    }
   ],
   "source": [
    "l = ['a' , '6' , '9.6']\n",
    "l"
   ]
  },
  {
   "cell_type": "code",
   "execution_count": 84,
   "id": "9ed72ac6",
   "metadata": {},
   "outputs": [
    {
     "data": {
      "text/plain": [
       "['a', '6', '9.6']"
      ]
     },
     "execution_count": 84,
     "metadata": {},
     "output_type": "execute_result"
    }
   ],
   "source": [
    "l2 = list(l)\n",
    "l"
   ]
  },
  {
   "cell_type": "code",
   "execution_count": 85,
   "id": "df10c87f",
   "metadata": {},
   "outputs": [
    {
     "data": {
      "text/plain": [
       "[35, 55, 56, 76, 80]"
      ]
     },
     "execution_count": 85,
     "metadata": {},
     "output_type": "execute_result"
    }
   ],
   "source": [
    "marks = [35,55,56,76,80]\n",
    "marks"
   ]
  },
  {
   "cell_type": "code",
   "execution_count": 87,
   "id": "ca2f3aba",
   "metadata": {},
   "outputs": [
    {
     "data": {
      "text/plain": [
       "[35, 55, 56, 76, 80]"
      ]
     },
     "execution_count": 87,
     "metadata": {},
     "output_type": "execute_result"
    }
   ],
   "source": [
    "copy_marks=marks.copy()\n",
    "copy_marks"
   ]
  },
  {
   "cell_type": "code",
   "execution_count": 88,
   "id": "d8d60c64",
   "metadata": {},
   "outputs": [
    {
     "data": {
      "text/plain": [
       "['s', 'u', 'v', 'a', 'r', 'c', 'h', 'a', 'l', 'a']"
      ]
     },
     "execution_count": 88,
     "metadata": {},
     "output_type": "execute_result"
    }
   ],
   "source": [
    "list('suvarchala')"
   ]
  },
  {
   "cell_type": "code",
   "execution_count": 93,
   "id": "08454b4e",
   "metadata": {},
   "outputs": [
    {
     "data": {
      "text/plain": [
       "['x', 'y', 'z']"
      ]
     },
     "execution_count": 93,
     "metadata": {},
     "output_type": "execute_result"
    }
   ],
   "source": [
    "list('xyz')"
   ]
  },
  {
   "cell_type": "code",
   "execution_count": 91,
   "id": "607e5be3",
   "metadata": {},
   "outputs": [
    {
     "ename": "TypeError",
     "evalue": "'int' object is not iterable",
     "output_type": "error",
     "traceback": [
      "\u001b[1;31m---------------------------------------------------------------------------\u001b[0m",
      "\u001b[1;31mTypeError\u001b[0m                                 Traceback (most recent call last)",
      "Input \u001b[1;32mIn [91]\u001b[0m, in \u001b[0;36m<cell line: 1>\u001b[1;34m()\u001b[0m\n\u001b[1;32m----> 1\u001b[0m \u001b[38;5;28;43mlist\u001b[39;49m\u001b[43m(\u001b[49m\u001b[38;5;241;43m1234\u001b[39;49m\u001b[43m)\u001b[49m\n",
      "\u001b[1;31mTypeError\u001b[0m: 'int' object is not iterable"
     ]
    }
   ],
   "source": [
    "list(1234)"
   ]
  },
  {
   "cell_type": "code",
   "execution_count": 94,
   "id": "efe3d212",
   "metadata": {},
   "outputs": [
    {
     "data": {
      "text/plain": [
       "['1', '2', '3', '4']"
      ]
     },
     "execution_count": 94,
     "metadata": {},
     "output_type": "execute_result"
    }
   ],
   "source": [
    "list('1234')"
   ]
  },
  {
   "cell_type": "code",
   "execution_count": 98,
   "id": "486c6084",
   "metadata": {},
   "outputs": [
    {
     "name": "stdout",
     "output_type": "stream",
     "text": [
      "Requirement already satisfied: jedi==0.17.2 in c:\\anaconda\\lib\\site-packages (0.17.2)\n",
      "Requirement already satisfied: parso<0.8.0,>=0.7.0 in c:\\anaconda\\lib\\site-packages (from jedi==0.17.2) (0.7.1)\n"
     ]
    }
   ],
   "source": [
    "!pip3 install jedi==0.17.2"
   ]
  },
  {
   "cell_type": "code",
   "execution_count": 8,
   "id": "dcb53067",
   "metadata": {},
   "outputs": [
    {
     "name": "stdout",
     "output_type": "stream",
     "text": [
      "['Rinku']\n"
     ]
    }
   ],
   "source": [
    "employee = []\n",
    "employee.append('Rinku')\n",
    "print(employee)"
   ]
  },
  {
   "cell_type": "code",
   "execution_count": 30,
   "id": "5dcd6a24",
   "metadata": {},
   "outputs": [
    {
     "name": "stdout",
     "output_type": "stream",
     "text": [
      "['Rinku', 'D souza', 'D souza', 'Tinku', 'Dany', 'Dany', \"D'any\", 'Dany', 'Dany', 'Dany', 'Dany', 'DANY', 'Pandu', 'Tinku', 'Pandu', 'Tinku', 'Pandu', 'Tinku', 'Pandu', 'Tinku', 'Pandu', 'Tinku', 'Pandu']\n"
     ]
    }
   ],
   "source": [
    "employee.append('Tinku')\n",
    "employee.append('Pandu')\n",
    "print (employee)"
   ]
  },
  {
   "cell_type": "code",
   "execution_count": null,
   "id": "e53ed9fb",
   "metadata": {},
   "outputs": [],
   "source": []
  },
  {
   "cell_type": "code",
   "execution_count": null,
   "id": "1b75c219",
   "metadata": {},
   "outputs": [],
   "source": []
  },
  {
   "cell_type": "code",
   "execution_count": null,
   "id": "b7861481",
   "metadata": {},
   "outputs": [],
   "source": []
  },
  {
   "cell_type": "code",
   "execution_count": 51,
   "id": "22334112",
   "metadata": {},
   "outputs": [
    {
     "data": {
      "text/plain": [
       "[15000, 16000, 17000]"
      ]
     },
     "execution_count": 51,
     "metadata": {},
     "output_type": "execute_result"
    }
   ],
   "source": [
    "empl_salary = [15000,16000,17000]\n",
    "empl_salary"
   ]
  },
  {
   "cell_type": "code",
   "execution_count": 56,
   "id": "a0f45571",
   "metadata": {},
   "outputs": [
    {
     "data": {
      "text/plain": [
       "[40000, 40000, 40000, 15000, 16000, 40000, 40000, 17000]"
      ]
     },
     "execution_count": 56,
     "metadata": {},
     "output_type": "execute_result"
    }
   ],
   "source": [
    "empl_salary.insert(0,40000)\n",
    "empl_salary"
   ]
  },
  {
   "cell_type": "code",
   "execution_count": 57,
   "id": "4e80aa99",
   "metadata": {},
   "outputs": [
    {
     "data": {
      "text/plain": [
       "['Rinku',\n",
       " 'D souza',\n",
       " 'D souza',\n",
       " 'Tinku',\n",
       " 'Dany',\n",
       " 'Dany',\n",
       " \"D'any\",\n",
       " 'Dany',\n",
       " 'Dany',\n",
       " 'Dany',\n",
       " 'Dany',\n",
       " 'DANY',\n",
       " 'Pandu',\n",
       " 'Tinku',\n",
       " 'Pandu',\n",
       " 'Tinku',\n",
       " 'Pandu',\n",
       " 'Tinku',\n",
       " 'Pandu',\n",
       " 'Tinku',\n",
       " 'Pandu',\n",
       " 'Tinku',\n",
       " 'Pandu']"
      ]
     },
     "execution_count": 57,
     "metadata": {},
     "output_type": "execute_result"
    }
   ],
   "source": [
    "employee"
   ]
  },
  {
   "cell_type": "code",
   "execution_count": 58,
   "id": "be90fe86",
   "metadata": {},
   "outputs": [
    {
     "data": {
      "text/plain": [
       "23"
      ]
     },
     "execution_count": 58,
     "metadata": {},
     "output_type": "execute_result"
    }
   ],
   "source": [
    "len(employee)"
   ]
  },
  {
   "cell_type": "code",
   "execution_count": 59,
   "id": "ecd74368",
   "metadata": {},
   "outputs": [
    {
     "data": {
      "text/plain": [
       "'Dany'"
      ]
     },
     "execution_count": 59,
     "metadata": {},
     "output_type": "execute_result"
    }
   ],
   "source": [
    "employee [9]"
   ]
  },
  {
   "cell_type": "code",
   "execution_count": 62,
   "id": "b510f927",
   "metadata": {},
   "outputs": [
    {
     "data": {
      "text/plain": [
       "'Pandu'"
      ]
     },
     "execution_count": 62,
     "metadata": {},
     "output_type": "execute_result"
    }
   ],
   "source": [
    "employee[22]"
   ]
  },
  {
   "cell_type": "code",
   "execution_count": 64,
   "id": "04092819",
   "metadata": {},
   "outputs": [
    {
     "data": {
      "text/plain": [
       "['Rinku',\n",
       " 'D souza',\n",
       " 'D souza',\n",
       " 'Tinku',\n",
       " 'Dany',\n",
       " 'Dany',\n",
       " \"D'any\",\n",
       " 'Dany',\n",
       " 'Dany',\n",
       " 'Dany',\n",
       " 'Dany',\n",
       " 'DANY',\n",
       " 'Pandu',\n",
       " 'Tinku',\n",
       " 'Pandu',\n",
       " 'Tinku',\n",
       " 'Pandu',\n",
       " 'Tinku',\n",
       " 'Pandu',\n",
       " 'Tinku',\n",
       " 'Pandu',\n",
       " 'Tinku',\n",
       " 'Danial']"
      ]
     },
     "execution_count": 64,
     "metadata": {},
     "output_type": "execute_result"
    }
   ],
   "source": [
    "employee[22] = 'Danial'\n",
    "employee"
   ]
  },
  {
   "cell_type": "code",
   "execution_count": 65,
   "id": "6446793c",
   "metadata": {},
   "outputs": [
    {
     "data": {
      "text/plain": [
       "[40000, 40000, 40000, 15000, 16000, 40000, 40000, 17000]"
      ]
     },
     "execution_count": 65,
     "metadata": {},
     "output_type": "execute_result"
    }
   ],
   "source": [
    "empl_salary"
   ]
  },
  {
   "cell_type": "code",
   "execution_count": 67,
   "id": "0a346fd6",
   "metadata": {},
   "outputs": [
    {
     "data": {
      "text/plain": [
       "[20000, 40000, 40000, 15000, 16000, 40000, 40000, 17000]"
      ]
     },
     "execution_count": 67,
     "metadata": {},
     "output_type": "execute_result"
    }
   ],
   "source": [
    "empl_salary[0] = 20000\n",
    "empl_salary"
   ]
  },
  {
   "cell_type": "code",
   "execution_count": 69,
   "id": "984f57a3",
   "metadata": {},
   "outputs": [
    {
     "data": {
      "text/plain": [
       "[16000, 40000, 40000, 17000]"
      ]
     },
     "execution_count": 69,
     "metadata": {},
     "output_type": "execute_result"
    }
   ],
   "source": [
    "empl_salary[4:]"
   ]
  },
  {
   "cell_type": "code",
   "execution_count": 71,
   "id": "96182121",
   "metadata": {},
   "outputs": [
    {
     "data": {
      "text/plain": [
       "[20000, 40000, 40000, 15000, 16000]"
      ]
     },
     "execution_count": 71,
     "metadata": {},
     "output_type": "execute_result"
    }
   ],
   "source": [
    "empl_salary[:5]"
   ]
  },
  {
   "cell_type": "code",
   "execution_count": 72,
   "id": "f13e6b9f",
   "metadata": {},
   "outputs": [
    {
     "data": {
      "text/plain": [
       "[15000, 16000]"
      ]
     },
     "execution_count": 72,
     "metadata": {},
     "output_type": "execute_result"
    }
   ],
   "source": [
    "empl_salary[3:5]"
   ]
  },
  {
   "cell_type": "code",
   "execution_count": 73,
   "id": "ced3d9c4",
   "metadata": {},
   "outputs": [
    {
     "data": {
      "text/plain": [
       "[20000, 40000, 40000, 15000, 16000, 40000, 40000, 17000, 25000]"
      ]
     },
     "execution_count": 73,
     "metadata": {},
     "output_type": "execute_result"
    }
   ],
   "source": [
    "empl_salary + [25000]"
   ]
  },
  {
   "cell_type": "code",
   "execution_count": 74,
   "id": "60206a09",
   "metadata": {},
   "outputs": [
    {
     "data": {
      "text/plain": [
       "[20000, 40000, 40000, 15000, 16000, 40000, 40000, 17000]"
      ]
     },
     "execution_count": 74,
     "metadata": {},
     "output_type": "execute_result"
    }
   ],
   "source": [
    "empl_salary"
   ]
  },
  {
   "cell_type": "code",
   "execution_count": 80,
   "id": "4a614203",
   "metadata": {},
   "outputs": [
    {
     "name": "stdout",
     "output_type": "stream",
     "text": [
      "====================================================================================================\n",
      "Data science\n",
      "====================================================================================================\n"
     ]
    }
   ],
   "source": [
    "print ('=' * 100)\n",
    "print('Data science')\n",
    "print ('=' * 100)"
   ]
  },
  {
   "cell_type": "code",
   "execution_count": 81,
   "id": "0d97a1aa",
   "metadata": {},
   "outputs": [
    {
     "data": {
      "text/plain": [
       "[20000, 40000, 40000, 15000, 16000, 40000, 40000, 17000]"
      ]
     },
     "execution_count": 81,
     "metadata": {},
     "output_type": "execute_result"
    }
   ],
   "source": [
    "empl_salary"
   ]
  },
  {
   "cell_type": "code",
   "execution_count": 82,
   "id": "ec7a382e",
   "metadata": {},
   "outputs": [],
   "source": [
    "marks = (100,30,40,100,65,75,85,75)"
   ]
  },
  {
   "cell_type": "code",
   "execution_count": 83,
   "id": "743dbe54",
   "metadata": {},
   "outputs": [
    {
     "data": {
      "text/plain": [
       "2"
      ]
     },
     "execution_count": 83,
     "metadata": {},
     "output_type": "execute_result"
    }
   ],
   "source": [
    "marks.count (75)"
   ]
  },
  {
   "cell_type": "code",
   "execution_count": 85,
   "id": "2299c9f2",
   "metadata": {},
   "outputs": [
    {
     "data": {
      "text/plain": [
       "5"
      ]
     },
     "execution_count": 85,
     "metadata": {},
     "output_type": "execute_result"
    }
   ],
   "source": [
    "marks.index(75)"
   ]
  },
  {
   "cell_type": "code",
   "execution_count": 86,
   "id": "2b76848e",
   "metadata": {},
   "outputs": [
    {
     "data": {
      "text/plain": [
       "['Rinku',\n",
       " 'D souza',\n",
       " 'D souza',\n",
       " 'Tinku',\n",
       " 'Dany',\n",
       " 'Dany',\n",
       " \"D'any\",\n",
       " 'Dany',\n",
       " 'Dany',\n",
       " 'Dany',\n",
       " 'Dany',\n",
       " 'DANY',\n",
       " 'Pandu',\n",
       " 'Tinku',\n",
       " 'Pandu',\n",
       " 'Tinku',\n",
       " 'Pandu',\n",
       " 'Tinku',\n",
       " 'Pandu',\n",
       " 'Tinku',\n",
       " 'Pandu',\n",
       " 'Tinku',\n",
       " 'Danial']"
      ]
     },
     "execution_count": 86,
     "metadata": {},
     "output_type": "execute_result"
    }
   ],
   "source": [
    "employee"
   ]
  },
  {
   "cell_type": "code",
   "execution_count": 89,
   "id": "465aefea",
   "metadata": {},
   "outputs": [
    {
     "name": "stdout",
     "output_type": "stream",
     "text": [
      "['Rinku', 'D souza', 'D souza', 'Tinku', 'Dany', 'Dany', \"D'any\", 'Dany', 'Dany', 'Dany', 'Dany', 'DANY', 'Pandu', 'Tinku', 'Pandu', 'Tinku', 'Pandu', 'Tinku', 'Pandu', 'Tinku', 'Pandu', 'Tinku', 'Danial', ['x', 'y']]\n"
     ]
    }
   ],
   "source": [
    "employee.append(['x','y'])\n",
    "print (employee)"
   ]
  },
  {
   "cell_type": "code",
   "execution_count": 91,
   "id": "d52a7311",
   "metadata": {},
   "outputs": [
    {
     "name": "stdout",
     "output_type": "stream",
     "text": [
      "['a', 'b', 'c', 'x', 'y']\n"
     ]
    }
   ],
   "source": [
    "employee = ['a','b','c']\n",
    "employee.extend(['x','y'])\n",
    "print(employee)"
   ]
  },
  {
   "cell_type": "code",
   "execution_count": 92,
   "id": "058b425d",
   "metadata": {},
   "outputs": [],
   "source": [
    "students = ('ram', 'rahim','rabert')"
   ]
  },
  {
   "cell_type": "code",
   "execution_count": 93,
   "id": "ff3c3448",
   "metadata": {},
   "outputs": [
    {
     "data": {
      "text/plain": [
       "('ram', 'rahim', 'rabert')"
      ]
     },
     "execution_count": 93,
     "metadata": {},
     "output_type": "execute_result"
    }
   ],
   "source": [
    "students"
   ]
  },
  {
   "cell_type": "code",
   "execution_count": 98,
   "id": "e0389739",
   "metadata": {},
   "outputs": [
    {
     "ename": "AttributeError",
     "evalue": "'tuple' object has no attribute 'pop'",
     "output_type": "error",
     "traceback": [
      "\u001b[1;31m---------------------------------------------------------------------------\u001b[0m",
      "\u001b[1;31mAttributeError\u001b[0m                            Traceback (most recent call last)",
      "Input \u001b[1;32mIn [98]\u001b[0m, in \u001b[0;36m<cell line: 1>\u001b[1;34m()\u001b[0m\n\u001b[1;32m----> 1\u001b[0m pop_last \u001b[38;5;241m=\u001b[39m \u001b[43mstudents\u001b[49m\u001b[38;5;241;43m.\u001b[39;49m\u001b[43mpop\u001b[49m()\n\u001b[0;32m      2\u001b[0m pop_last\n",
      "\u001b[1;31mAttributeError\u001b[0m: 'tuple' object has no attribute 'pop'"
     ]
    }
   ],
   "source": [
    "pop_last = students.pop()\n",
    "pop_last"
   ]
  },
  {
   "cell_type": "code",
   "execution_count": 97,
   "id": "c2cd8542",
   "metadata": {},
   "outputs": [
    {
     "ename": "AttributeError",
     "evalue": "'tuple' object has no attribute 'pop'",
     "output_type": "error",
     "traceback": [
      "\u001b[1;31m---------------------------------------------------------------------------\u001b[0m",
      "\u001b[1;31mAttributeError\u001b[0m                            Traceback (most recent call last)",
      "Input \u001b[1;32mIn [97]\u001b[0m, in \u001b[0;36m<cell line: 1>\u001b[1;34m()\u001b[0m\n\u001b[1;32m----> 1\u001b[0m pop_last \u001b[38;5;241m=\u001b[39m \u001b[43mstudents\u001b[49m\u001b[38;5;241;43m.\u001b[39;49m\u001b[43mpop\u001b[49m()\n\u001b[0;32m      2\u001b[0m pop_last\n",
      "\u001b[1;31mAttributeError\u001b[0m: 'tuple' object has no attribute 'pop'"
     ]
    }
   ],
   "source": [
    "pop_last = students.pop()\n",
    "pop_last"
   ]
  },
  {
   "cell_type": "code",
   "execution_count": 102,
   "id": "5c971949",
   "metadata": {},
   "outputs": [
    {
     "ename": "AttributeError",
     "evalue": "'tuple' object has no attribute 'pop'",
     "output_type": "error",
     "traceback": [
      "\u001b[1;31m---------------------------------------------------------------------------\u001b[0m",
      "\u001b[1;31mAttributeError\u001b[0m                            Traceback (most recent call last)",
      "Input \u001b[1;32mIn [102]\u001b[0m, in \u001b[0;36m<cell line: 1>\u001b[1;34m()\u001b[0m\n\u001b[1;32m----> 1\u001b[0m pop_last \u001b[38;5;241m=\u001b[39m \u001b[43mstudents\u001b[49m\u001b[38;5;241;43m.\u001b[39;49m\u001b[43mpop\u001b[49m()\n\u001b[0;32m      2\u001b[0m pop_last\n",
      "\u001b[1;31mAttributeError\u001b[0m: 'tuple' object has no attribute 'pop'"
     ]
    }
   ],
   "source": [
    "pop_last = students.pop()\n",
    "pop_last"
   ]
  },
  {
   "cell_type": "code",
   "execution_count": 100,
   "id": "a82120d2",
   "metadata": {},
   "outputs": [
    {
     "data": {
      "text/plain": [
       "('ram', 'rahim', 'rabert')"
      ]
     },
     "execution_count": 100,
     "metadata": {},
     "output_type": "execute_result"
    }
   ],
   "source": [
    "students"
   ]
  },
  {
   "cell_type": "code",
   "execution_count": 103,
   "id": "461a8cf5",
   "metadata": {},
   "outputs": [],
   "source": [
    "students = ['raj', 'ram','rahim','robort']"
   ]
  },
  {
   "cell_type": "code",
   "execution_count": 104,
   "id": "f9c4156e",
   "metadata": {},
   "outputs": [
    {
     "data": {
      "text/plain": [
       "'rahim'"
      ]
     },
     "execution_count": 104,
     "metadata": {},
     "output_type": "execute_result"
    }
   ],
   "source": [
    "pop_index = students.pop(2)\n",
    "pop_index"
   ]
  },
  {
   "cell_type": "code",
   "execution_count": 107,
   "id": "dbfb5859",
   "metadata": {},
   "outputs": [
    {
     "data": {
      "text/plain": [
       "'raj'"
      ]
     },
     "execution_count": 107,
     "metadata": {},
     "output_type": "execute_result"
    }
   ],
   "source": []
  },
  {
   "cell_type": "code",
   "execution_count": 108,
   "id": "f183b776",
   "metadata": {},
   "outputs": [
    {
     "ename": "IndexError",
     "evalue": "pop from empty list",
     "output_type": "error",
     "traceback": [
      "\u001b[1;31m---------------------------------------------------------------------------\u001b[0m",
      "\u001b[1;31mIndexError\u001b[0m                                Traceback (most recent call last)",
      "Input \u001b[1;32mIn [108]\u001b[0m, in \u001b[0;36m<cell line: 1>\u001b[1;34m()\u001b[0m\n\u001b[1;32m----> 1\u001b[0m pop_last \u001b[38;5;241m=\u001b[39m \u001b[43mstudents\u001b[49m\u001b[38;5;241;43m.\u001b[39;49m\u001b[43mpop\u001b[49m\u001b[43m(\u001b[49m\u001b[43m)\u001b[49m\n\u001b[0;32m      2\u001b[0m pop_last\n",
      "\u001b[1;31mIndexError\u001b[0m: pop from empty list"
     ]
    }
   ],
   "source": [
    "pop_last = students.pop()\n",
    "pop_last"
   ]
  },
  {
   "cell_type": "code",
   "execution_count": 109,
   "id": "60b54409",
   "metadata": {},
   "outputs": [
    {
     "ename": "IndexError",
     "evalue": "pop from empty list",
     "output_type": "error",
     "traceback": [
      "\u001b[1;31m---------------------------------------------------------------------------\u001b[0m",
      "\u001b[1;31mIndexError\u001b[0m                                Traceback (most recent call last)",
      "Input \u001b[1;32mIn [109]\u001b[0m, in \u001b[0;36m<cell line: 1>\u001b[1;34m()\u001b[0m\n\u001b[1;32m----> 1\u001b[0m pop_last \u001b[38;5;241m=\u001b[39m \u001b[43mstudents\u001b[49m\u001b[38;5;241;43m.\u001b[39;49m\u001b[43mpop\u001b[49m\u001b[43m(\u001b[49m\u001b[43m)\u001b[49m\n\u001b[0;32m      2\u001b[0m pop_last\n",
      "\u001b[1;31mIndexError\u001b[0m: pop from empty list"
     ]
    }
   ],
   "source": [
    "pop_last = students.pop()\n",
    "pop_last"
   ]
  },
  {
   "cell_type": "code",
   "execution_count": 110,
   "id": "1af0f46e",
   "metadata": {},
   "outputs": [],
   "source": [
    "students = ['raju','ramu','rahul']\n"
   ]
  },
  {
   "cell_type": "code",
   "execution_count": 111,
   "id": "eb7405ca",
   "metadata": {},
   "outputs": [
    {
     "data": {
      "text/plain": [
       "'rahul'"
      ]
     },
     "execution_count": 111,
     "metadata": {},
     "output_type": "execute_result"
    }
   ],
   "source": [
    "pop_last = students.pop()\n",
    "pop_last"
   ]
  },
  {
   "cell_type": "code",
   "execution_count": 112,
   "id": "e2e08599",
   "metadata": {},
   "outputs": [],
   "source": [
    "students = ['raju','ramu','rahul','rahim']"
   ]
  },
  {
   "cell_type": "code",
   "execution_count": 113,
   "id": "e34239e8",
   "metadata": {},
   "outputs": [
    {
     "data": {
      "text/plain": [
       "'rahim'"
      ]
     },
     "execution_count": 113,
     "metadata": {},
     "output_type": "execute_result"
    }
   ],
   "source": [
    "students.pop()"
   ]
  },
  {
   "cell_type": "code",
   "execution_count": 114,
   "id": "89f09b9b",
   "metadata": {},
   "outputs": [
    {
     "name": "stdout",
     "output_type": "stream",
     "text": [
      "['raju', 'ramu', 'rahul']\n"
     ]
    }
   ],
   "source": [
    "print (students)"
   ]
  },
  {
   "cell_type": "code",
   "execution_count": 116,
   "id": "8fb8baaa",
   "metadata": {},
   "outputs": [],
   "source": [
    "roll_number  = (101,102,103,103,104,105)"
   ]
  },
  {
   "cell_type": "code",
   "execution_count": 118,
   "id": "21841a4d",
   "metadata": {},
   "outputs": [
    {
     "ename": "AttributeError",
     "evalue": "'tuple' object has no attribute 'remove'",
     "output_type": "error",
     "traceback": [
      "\u001b[1;31m---------------------------------------------------------------------------\u001b[0m",
      "\u001b[1;31mAttributeError\u001b[0m                            Traceback (most recent call last)",
      "Input \u001b[1;32mIn [118]\u001b[0m, in \u001b[0;36m<cell line: 1>\u001b[1;34m()\u001b[0m\n\u001b[1;32m----> 1\u001b[0m \u001b[43mroll_number\u001b[49m\u001b[38;5;241;43m.\u001b[39;49m\u001b[43mremove\u001b[49m(\u001b[38;5;241m103\u001b[39m)\n",
      "\u001b[1;31mAttributeError\u001b[0m: 'tuple' object has no attribute 'remove'"
     ]
    }
   ],
   "source": [
    "roll_number.remove(103)\n"
   ]
  },
  {
   "cell_type": "code",
   "execution_count": 119,
   "id": "c0fe94f2",
   "metadata": {},
   "outputs": [
    {
     "name": "stdout",
     "output_type": "stream",
     "text": [
      "(101, 102, 103, 103, 104, 105)\n"
     ]
    }
   ],
   "source": [
    "print (roll_number)"
   ]
  },
  {
   "cell_type": "code",
   "execution_count": 120,
   "id": "18b056f7",
   "metadata": {},
   "outputs": [],
   "source": [
    "roll_number  = (101,102,103,103,104,105)"
   ]
  },
  {
   "cell_type": "code",
   "execution_count": 122,
   "id": "7873443e",
   "metadata": {},
   "outputs": [
    {
     "ename": "AttributeError",
     "evalue": "'tuple' object has no attribute 'remove'",
     "output_type": "error",
     "traceback": [
      "\u001b[1;31m---------------------------------------------------------------------------\u001b[0m",
      "\u001b[1;31mAttributeError\u001b[0m                            Traceback (most recent call last)",
      "Input \u001b[1;32mIn [122]\u001b[0m, in \u001b[0;36m<cell line: 1>\u001b[1;34m()\u001b[0m\n\u001b[1;32m----> 1\u001b[0m \u001b[43mroll_number\u001b[49m\u001b[38;5;241;43m.\u001b[39;49m\u001b[43mremove\u001b[49m(\u001b[38;5;241m103\u001b[39m)\n",
      "\u001b[1;31mAttributeError\u001b[0m: 'tuple' object has no attribute 'remove'"
     ]
    }
   ],
   "source": [
    "roll_number.remove(103)"
   ]
  },
  {
   "cell_type": "code",
   "execution_count": 123,
   "id": "843ede57",
   "metadata": {},
   "outputs": [
    {
     "name": "stdout",
     "output_type": "stream",
     "text": [
      "(101, 102, 103, 103, 104, 105)\n"
     ]
    }
   ],
   "source": [
    "print (roll_number)"
   ]
  },
  {
   "cell_type": "code",
   "execution_count": 124,
   "id": "59a95aa3",
   "metadata": {},
   "outputs": [],
   "source": [
    "roll_number = [101,102,103,103,104]"
   ]
  },
  {
   "cell_type": "code",
   "execution_count": 125,
   "id": "1e9a5642",
   "metadata": {},
   "outputs": [],
   "source": [
    "roll_number.remove(103)"
   ]
  },
  {
   "cell_type": "code",
   "execution_count": 126,
   "id": "d05c113b",
   "metadata": {},
   "outputs": [
    {
     "name": "stdout",
     "output_type": "stream",
     "text": [
      "[101, 102, 103, 104]\n"
     ]
    }
   ],
   "source": [
    "print (roll_number)"
   ]
  },
  {
   "cell_type": "code",
   "execution_count": 3,
   "id": "3fae8872",
   "metadata": {
    "scrolled": true
   },
   "outputs": [
    {
     "ename": "SyntaxError",
     "evalue": "invalid syntax (12965193.py, line 1)",
     "output_type": "error",
     "traceback": [
      "\u001b[1;36m  Input \u001b[1;32mIn [3]\u001b[1;36m\u001b[0m\n\u001b[1;33m    1st = [1,2,3,4,5,6,7,8,9]\u001b[0m\n\u001b[1;37m     ^\u001b[0m\n\u001b[1;31mSyntaxError\u001b[0m\u001b[1;31m:\u001b[0m invalid syntax\n"
     ]
    }
   ],
   "source": [
    "1st = [1,2,3,4,5,6,7,8,9]\n"
   ]
  },
  {
   "cell_type": "code",
   "execution_count": 6,
   "id": "8f056bba",
   "metadata": {},
   "outputs": [],
   "source": [
    "lst = [1,2,3,4,5]"
   ]
  },
  {
   "cell_type": "code",
   "execution_count": 7,
   "id": "da9696ea",
   "metadata": {},
   "outputs": [],
   "source": [
    "lst.reverse()"
   ]
  },
  {
   "cell_type": "code",
   "execution_count": 8,
   "id": "420ffeae",
   "metadata": {},
   "outputs": [
    {
     "data": {
      "text/plain": [
       "[5, 4, 3, 2, 1]"
      ]
     },
     "execution_count": 8,
     "metadata": {},
     "output_type": "execute_result"
    }
   ],
   "source": [
    "lst"
   ]
  },
  {
   "cell_type": "code",
   "execution_count": 9,
   "id": "7b654f50",
   "metadata": {},
   "outputs": [
    {
     "data": {
      "text/plain": [
       "[25, 33, 30, 45, 65, 75, 99]"
      ]
     },
     "execution_count": 9,
     "metadata": {},
     "output_type": "execute_result"
    }
   ],
   "source": [
    "marks = [25,33,30,45,65,75,99]\n",
    "marks"
   ]
  },
  {
   "cell_type": "code",
   "execution_count": 11,
   "id": "1fa0de15",
   "metadata": {},
   "outputs": [
    {
     "data": {
      "text/plain": [
       "[25, 30, 33, 45, 65, 75, 99]"
      ]
     },
     "execution_count": 11,
     "metadata": {},
     "output_type": "execute_result"
    }
   ],
   "source": [
    "marks.sort()\n",
    "marks"
   ]
  },
  {
   "cell_type": "code",
   "execution_count": 13,
   "id": "39d82589",
   "metadata": {},
   "outputs": [
    {
     "name": "stdout",
     "output_type": "stream",
     "text": [
      "[99, 75, 65, 45, 33, 30, 25]\n"
     ]
    }
   ],
   "source": [
    "marks.sort(reverse=True)\n",
    "print(marks)"
   ]
  },
  {
   "cell_type": "code",
   "execution_count": 14,
   "id": "cee37ff1",
   "metadata": {},
   "outputs": [
    {
     "ename": "NameError",
     "evalue": "name 'reverse' is not defined",
     "output_type": "error",
     "traceback": [
      "\u001b[1;31m---------------------------------------------------------------------------\u001b[0m",
      "\u001b[1;31mNameError\u001b[0m                                 Traceback (most recent call last)",
      "Input \u001b[1;32mIn [14]\u001b[0m, in \u001b[0;36m<cell line: 1>\u001b[1;34m()\u001b[0m\n\u001b[1;32m----> 1\u001b[0m marks\u001b[38;5;241m.\u001b[39msort(\u001b[43mreverse\u001b[49m)\n",
      "\u001b[1;31mNameError\u001b[0m: name 'reverse' is not defined"
     ]
    }
   ],
   "source": []
  },
  {
   "cell_type": "code",
   "execution_count": 17,
   "id": "84580151",
   "metadata": {},
   "outputs": [
    {
     "name": "stdout",
     "output_type": "stream",
     "text": [
      "[99, 75, 65, 45, 33, 30, 25]\n"
     ]
    }
   ],
   "source": [
    "marks.reverse\n",
    "print(marks)"
   ]
  },
  {
   "cell_type": "code",
   "execution_count": 2,
   "id": "f708f52b",
   "metadata": {},
   "outputs": [
    {
     "data": {
      "text/plain": [
       "('Vizag', 'Hyd', 'Delhi')"
      ]
     },
     "execution_count": 2,
     "metadata": {},
     "output_type": "execute_result"
    }
   ],
   "source": [
    "work_location = ('Vizag', 'Hyd','Delhi')\n",
    "work_location"
   ]
  },
  {
   "cell_type": "code",
   "execution_count": 3,
   "id": "e3416359",
   "metadata": {},
   "outputs": [
    {
     "data": {
      "text/plain": [
       "tuple"
      ]
     },
     "execution_count": 3,
     "metadata": {},
     "output_type": "execute_result"
    }
   ],
   "source": [
    "type(work_location)"
   ]
  },
  {
   "cell_type": "code",
   "execution_count": 5,
   "id": "15e2b999",
   "metadata": {},
   "outputs": [
    {
     "data": {
      "text/plain": [
       "('15000', '20000', '40000')"
      ]
     },
     "execution_count": 5,
     "metadata": {},
     "output_type": "execute_result"
    }
   ],
   "source": [
    "emp_salary = ('15000','20000','40000')\n",
    "emp_salary"
   ]
  },
  {
   "cell_type": "code",
   "execution_count": 6,
   "id": "e58c6768",
   "metadata": {},
   "outputs": [
    {
     "data": {
      "text/plain": [
       "['Vizag', 'Hyd', 'Delhi']"
      ]
     },
     "execution_count": 6,
     "metadata": {},
     "output_type": "execute_result"
    }
   ],
   "source": [
    "work_location = list (work_location)\n",
    "work_location\n"
   ]
  },
  {
   "cell_type": "code",
   "execution_count": 7,
   "id": "1cdb396e",
   "metadata": {},
   "outputs": [
    {
     "data": {
      "text/plain": [
       "list"
      ]
     },
     "execution_count": 7,
     "metadata": {},
     "output_type": "execute_result"
    }
   ],
   "source": [
    "type(work_location)"
   ]
  },
  {
   "cell_type": "code",
   "execution_count": 9,
   "id": "2ced61af",
   "metadata": {},
   "outputs": [
    {
     "data": {
      "text/plain": [
       "['Vizag', 'Hyd', 'Delhi', 'Noida', 'Noida']"
      ]
     },
     "execution_count": 9,
     "metadata": {},
     "output_type": "execute_result"
    }
   ],
   "source": [
    "work_location.append('Noida')\n",
    "work_location\n"
   ]
  },
  {
   "cell_type": "code",
   "execution_count": 10,
   "id": "1df00f19",
   "metadata": {},
   "outputs": [
    {
     "data": {
      "text/plain": [
       "['Vizag', 'kolkata', 'Delhi', 'Noida', 'Noida']"
      ]
     },
     "execution_count": 10,
     "metadata": {},
     "output_type": "execute_result"
    }
   ],
   "source": [
    "work_location[1] = 'kolkata'\n",
    "work_location"
   ]
  },
  {
   "cell_type": "code",
   "execution_count": 11,
   "id": "f0cb7164",
   "metadata": {},
   "outputs": [],
   "source": [
    "work_location = tuple(work_location)"
   ]
  },
  {
   "cell_type": "code",
   "execution_count": 12,
   "id": "cda2794d",
   "metadata": {},
   "outputs": [
    {
     "data": {
      "text/plain": [
       "tuple"
      ]
     },
     "execution_count": 12,
     "metadata": {},
     "output_type": "execute_result"
    }
   ],
   "source": [
    "type(work_location)"
   ]
  },
  {
   "cell_type": "code",
   "execution_count": 13,
   "id": "e5ae17e2",
   "metadata": {},
   "outputs": [
    {
     "data": {
      "text/plain": [
       "('Vizag', 'kolkata', 'Delhi', 'Noida', 'Noida')"
      ]
     },
     "execution_count": 13,
     "metadata": {},
     "output_type": "execute_result"
    }
   ],
   "source": [
    "work_location"
   ]
  },
  {
   "cell_type": "code",
   "execution_count": 14,
   "id": "29353e81",
   "metadata": {},
   "outputs": [
    {
     "data": {
      "text/plain": [
       "5"
      ]
     },
     "execution_count": 14,
     "metadata": {},
     "output_type": "execute_result"
    }
   ],
   "source": [
    "len(work_location)"
   ]
  },
  {
   "cell_type": "code",
   "execution_count": 15,
   "id": "e962c29b",
   "metadata": {},
   "outputs": [
    {
     "ename": "TypeError",
     "evalue": "'builtin_function_or_method' object is not subscriptable",
     "output_type": "error",
     "traceback": [
      "\u001b[1;31m---------------------------------------------------------------------------\u001b[0m",
      "\u001b[1;31mTypeError\u001b[0m                                 Traceback (most recent call last)",
      "Input \u001b[1;32mIn [15]\u001b[0m, in \u001b[0;36m<cell line: 1>\u001b[1;34m()\u001b[0m\n\u001b[1;32m----> 1\u001b[0m \u001b[38;5;28;43mlen\u001b[39;49m\u001b[43m[\u001b[49m\u001b[43mwork_location\u001b[49m\u001b[43m]\u001b[49m\n",
      "\u001b[1;31mTypeError\u001b[0m: 'builtin_function_or_method' object is not subscriptable"
     ]
    }
   ],
   "source": [
    "len[work_location]"
   ]
  },
  {
   "cell_type": "code",
   "execution_count": 16,
   "id": "f6557113",
   "metadata": {},
   "outputs": [
    {
     "data": {
      "text/plain": [
       "('Vizag', 'kolkata', 'Delhi', 'Noida', 'Noida')"
      ]
     },
     "execution_count": 16,
     "metadata": {},
     "output_type": "execute_result"
    }
   ],
   "source": [
    "work_location"
   ]
  },
  {
   "cell_type": "code",
   "execution_count": 18,
   "id": "018ab643",
   "metadata": {},
   "outputs": [
    {
     "data": {
      "text/plain": [
       "'Noida'"
      ]
     },
     "execution_count": 18,
     "metadata": {},
     "output_type": "execute_result"
    }
   ],
   "source": [
    "work_location[3]"
   ]
  },
  {
   "cell_type": "code",
   "execution_count": 20,
   "id": "96003c37",
   "metadata": {},
   "outputs": [
    {
     "data": {
      "text/plain": [
       "'Delhi'"
      ]
     },
     "execution_count": 20,
     "metadata": {},
     "output_type": "execute_result"
    }
   ],
   "source": [
    "work_location[-3]"
   ]
  },
  {
   "cell_type": "code",
   "execution_count": 21,
   "id": "9c65b8f8",
   "metadata": {},
   "outputs": [
    {
     "data": {
      "text/plain": [
       "<function tuple.index(value, start=0, stop=9223372036854775807, /)>"
      ]
     },
     "execution_count": 21,
     "metadata": {},
     "output_type": "execute_result"
    }
   ],
   "source": [
    "work_location.count\n",
    "work_location.index"
   ]
  },
  {
   "cell_type": "code",
   "execution_count": 22,
   "id": "b4bf984e",
   "metadata": {},
   "outputs": [
    {
     "data": {
      "text/plain": [
       "(26, 36, 46, 56, 66)"
      ]
     },
     "execution_count": 22,
     "metadata": {},
     "output_type": "execute_result"
    }
   ],
   "source": [
    "numbers = (26,36,46,56,66)\n",
    "numbers"
   ]
  },
  {
   "cell_type": "code",
   "execution_count": 23,
   "id": "47edf841",
   "metadata": {},
   "outputs": [
    {
     "data": {
      "text/plain": [
       "3"
      ]
     },
     "execution_count": 23,
     "metadata": {},
     "output_type": "execute_result"
    }
   ],
   "source": [
    "numbers.index(56)"
   ]
  },
  {
   "cell_type": "code",
   "execution_count": 24,
   "id": "75f29b86",
   "metadata": {},
   "outputs": [
    {
     "data": {
      "text/plain": [
       "1"
      ]
     },
     "execution_count": 24,
     "metadata": {},
     "output_type": "execute_result"
    }
   ],
   "source": [
    "numbers.count(56)"
   ]
  },
  {
   "cell_type": "code",
   "execution_count": 26,
   "id": "2aa67442",
   "metadata": {},
   "outputs": [
    {
     "data": {
      "text/plain": [
       "2"
      ]
     },
     "execution_count": 26,
     "metadata": {},
     "output_type": "execute_result"
    }
   ],
   "source": [
    "numbers = (26,36,46,56,66,56)\n",
    "numbers.count(56)"
   ]
  },
  {
   "cell_type": "code",
   "execution_count": 32,
   "id": "a090d4f9",
   "metadata": {},
   "outputs": [],
   "source": [
    "roll_number = set()"
   ]
  },
  {
   "cell_type": "code",
   "execution_count": 30,
   "id": "3906e463",
   "metadata": {},
   "outputs": [
    {
     "ename": "NameError",
     "evalue": "name 'tpye' is not defined",
     "output_type": "error",
     "traceback": [
      "\u001b[1;31m---------------------------------------------------------------------------\u001b[0m",
      "\u001b[1;31mNameError\u001b[0m                                 Traceback (most recent call last)",
      "Input \u001b[1;32mIn [30]\u001b[0m, in \u001b[0;36m<cell line: 1>\u001b[1;34m()\u001b[0m\n\u001b[1;32m----> 1\u001b[0m \u001b[43mtpye\u001b[49m(roll_number)\n",
      "\u001b[1;31mNameError\u001b[0m: name 'tpye' is not defined"
     ]
    }
   ],
   "source": []
  },
  {
   "cell_type": "code",
   "execution_count": 31,
   "id": "6b394c9f",
   "metadata": {},
   "outputs": [
    {
     "ename": "NameError",
     "evalue": "name 'tpye' is not defined",
     "output_type": "error",
     "traceback": [
      "\u001b[1;31m---------------------------------------------------------------------------\u001b[0m",
      "\u001b[1;31mNameError\u001b[0m                                 Traceback (most recent call last)",
      "Input \u001b[1;32mIn [31]\u001b[0m, in \u001b[0;36m<cell line: 1>\u001b[1;34m()\u001b[0m\n\u001b[1;32m----> 1\u001b[0m \u001b[43mtpye\u001b[49m(roll_number)\n",
      "\u001b[1;31mNameError\u001b[0m: name 'tpye' is not defined"
     ]
    }
   ],
   "source": [
    "tpye(roll_number)"
   ]
  },
  {
   "cell_type": "code",
   "execution_count": 33,
   "id": "1863e31e",
   "metadata": {},
   "outputs": [
    {
     "data": {
      "text/plain": [
       "set"
      ]
     },
     "execution_count": 33,
     "metadata": {},
     "output_type": "execute_result"
    }
   ],
   "source": [
    "type(roll_number)"
   ]
  },
  {
   "cell_type": "code",
   "execution_count": 34,
   "id": "ab0e70e1",
   "metadata": {},
   "outputs": [
    {
     "data": {
      "text/plain": [
       "{1}"
      ]
     },
     "execution_count": 34,
     "metadata": {},
     "output_type": "execute_result"
    }
   ],
   "source": [
    "roll_number.add(1)\n",
    "roll_number"
   ]
  },
  {
   "cell_type": "code",
   "execution_count": 35,
   "id": "ec78d48f",
   "metadata": {},
   "outputs": [
    {
     "data": {
      "text/plain": [
       "{1, 2}"
      ]
     },
     "execution_count": 35,
     "metadata": {},
     "output_type": "execute_result"
    }
   ],
   "source": [
    "roll_number.add(2)\n",
    "roll_number"
   ]
  },
  {
   "cell_type": "code",
   "execution_count": 36,
   "id": "0109d94f",
   "metadata": {},
   "outputs": [
    {
     "data": {
      "text/plain": [
       "{1, 2}"
      ]
     },
     "execution_count": 36,
     "metadata": {},
     "output_type": "execute_result"
    }
   ],
   "source": [
    "roll_number.add(2)\n",
    "roll_number"
   ]
  },
  {
   "cell_type": "code",
   "execution_count": 37,
   "id": "054b3ef5",
   "metadata": {},
   "outputs": [
    {
     "data": {
      "text/plain": [
       "[9, 9, 11, 11, 11, 12, 13, 14, 15]"
      ]
     },
     "execution_count": 37,
     "metadata": {},
     "output_type": "execute_result"
    }
   ],
   "source": [
    "remove_dups = [9,9,11,11,11, 12,13,14,15]\n",
    "remove_dups"
   ]
  },
  {
   "cell_type": "code",
   "execution_count": 39,
   "id": "15115c68",
   "metadata": {},
   "outputs": [
    {
     "data": {
      "text/plain": [
       "{9, 11, 12, 13, 14, 15}"
      ]
     },
     "execution_count": 39,
     "metadata": {},
     "output_type": "execute_result"
    }
   ],
   "source": [
    "dup_removed = set(remove_dups)\n",
    "dup_removed\n"
   ]
  },
  {
   "cell_type": "code",
   "execution_count": 40,
   "id": "bebfa4be",
   "metadata": {},
   "outputs": [
    {
     "data": {
      "text/plain": [
       "[9, 9, 11, 11, 11, 12, 13, 14, 15, 1, 2, 3]"
      ]
     },
     "execution_count": 40,
     "metadata": {},
     "output_type": "execute_result"
    }
   ],
   "source": [
    "remove_dups = [9,9,11,11,11, 12,13,14,15,1,2,3]\n",
    "remove_dups"
   ]
  },
  {
   "cell_type": "code",
   "execution_count": 41,
   "id": "43eacada",
   "metadata": {},
   "outputs": [],
   "source": [
    "dup_removed = set(remove_dups)"
   ]
  },
  {
   "cell_type": "code",
   "execution_count": 42,
   "id": "54ade355",
   "metadata": {},
   "outputs": [
    {
     "data": {
      "text/plain": [
       "{1, 2, 3, 9, 11, 12, 13, 14, 15}"
      ]
     },
     "execution_count": 42,
     "metadata": {},
     "output_type": "execute_result"
    }
   ],
   "source": [
    "dup_removed"
   ]
  },
  {
   "cell_type": "code",
   "execution_count": 44,
   "id": "16ab93eb",
   "metadata": {},
   "outputs": [
    {
     "data": {
      "text/plain": [
       "[1, 2, 3, 9, 11, 12, 13, 14, 15]"
      ]
     },
     "execution_count": 44,
     "metadata": {},
     "output_type": "execute_result"
    }
   ],
   "source": [
    "remove_dups = list(dup_removed)\n",
    "remove_dups"
   ]
  },
  {
   "cell_type": "code",
   "execution_count": 46,
   "id": "e4e0daec",
   "metadata": {},
   "outputs": [
    {
     "data": {
      "text/plain": [
       "{'key1': 'value1', 'key2': 'value2'}"
      ]
     },
     "execution_count": 46,
     "metadata": {},
     "output_type": "execute_result"
    }
   ],
   "source": [
    "my_dict = {'key1' :'value1','key2':'value2'}\n",
    "my_dict"
   ]
  },
  {
   "cell_type": "code",
   "execution_count": 47,
   "id": "8abd4d17",
   "metadata": {},
   "outputs": [
    {
     "data": {
      "text/plain": [
       "'value2'"
      ]
     },
     "execution_count": 47,
     "metadata": {},
     "output_type": "execute_result"
    }
   ],
   "source": [
    "my_dict['key2']"
   ]
  },
  {
   "cell_type": "code",
   "execution_count": 48,
   "id": "1103cee3",
   "metadata": {},
   "outputs": [],
   "source": [
    "my_dict = {'roll_number':123,'marks':[15,16,18],'subject':['computers','maths','science']}"
   ]
  },
  {
   "cell_type": "code",
   "execution_count": 51,
   "id": "c2fba676",
   "metadata": {},
   "outputs": [
    {
     "data": {
      "text/plain": [
       "123"
      ]
     },
     "execution_count": 51,
     "metadata": {},
     "output_type": "execute_result"
    }
   ],
   "source": [
    "my_dict['roll_number']"
   ]
  },
  {
   "cell_type": "code",
   "execution_count": 52,
   "id": "37af01ea",
   "metadata": {},
   "outputs": [
    {
     "data": {
      "text/plain": [
       "['computers', 'maths', 'science']"
      ]
     },
     "execution_count": 52,
     "metadata": {},
     "output_type": "execute_result"
    }
   ],
   "source": [
    "my_dict['subject']"
   ]
  },
  {
   "cell_type": "code",
   "execution_count": 53,
   "id": "00553946",
   "metadata": {},
   "outputs": [
    {
     "data": {
      "text/plain": [
       "[15, 16, 18]"
      ]
     },
     "execution_count": 53,
     "metadata": {},
     "output_type": "execute_result"
    }
   ],
   "source": [
    "my_dict['marks']"
   ]
  },
  {
   "cell_type": "code",
   "execution_count": 54,
   "id": "64f02b6e",
   "metadata": {},
   "outputs": [
    {
     "data": {
      "text/plain": [
       "'science'"
      ]
     },
     "execution_count": 54,
     "metadata": {},
     "output_type": "execute_result"
    }
   ],
   "source": [
    "my_dict['subject'][2]"
   ]
  },
  {
   "cell_type": "code",
   "execution_count": 55,
   "id": "0624023d",
   "metadata": {},
   "outputs": [
    {
     "data": {
      "text/plain": [
       "'SCIENCE'"
      ]
     },
     "execution_count": 55,
     "metadata": {},
     "output_type": "execute_result"
    }
   ],
   "source": [
    "my_dict['subject'][2].upper()"
   ]
  },
  {
   "cell_type": "code",
   "execution_count": 56,
   "id": "ee7d4e16",
   "metadata": {},
   "outputs": [],
   "source": [
    "my_dict['marks'][1] = my_dict['marks'][1]+30"
   ]
  },
  {
   "cell_type": "code",
   "execution_count": 57,
   "id": "166d9f9d",
   "metadata": {},
   "outputs": [
    {
     "data": {
      "text/plain": [
       "[15, 46, 18]"
      ]
     },
     "execution_count": 57,
     "metadata": {},
     "output_type": "execute_result"
    }
   ],
   "source": [
    "my_dict['marks']"
   ]
  },
  {
   "cell_type": "code",
   "execution_count": 58,
   "id": "4e6b08a9",
   "metadata": {},
   "outputs": [],
   "source": [
    "my_dict['marks'][2]+=20"
   ]
  },
  {
   "cell_type": "code",
   "execution_count": 59,
   "id": "6c5420a8",
   "metadata": {},
   "outputs": [
    {
     "data": {
      "text/plain": [
       "[15, 46, 38]"
      ]
     },
     "execution_count": 59,
     "metadata": {},
     "output_type": "execute_result"
    }
   ],
   "source": [
    "my_dict['marks']"
   ]
  },
  {
   "cell_type": "code",
   "execution_count": 60,
   "id": "48c59eb5",
   "metadata": {},
   "outputs": [
    {
     "data": {
      "text/plain": [
       "[15, 46, 35]"
      ]
     },
     "execution_count": 60,
     "metadata": {},
     "output_type": "execute_result"
    }
   ],
   "source": [
    "my_dict['marks'][2]-=3\n",
    "my_dict['marks']"
   ]
  },
  {
   "cell_type": "code",
   "execution_count": 61,
   "id": "8fc50aed",
   "metadata": {},
   "outputs": [
    {
     "data": {
      "text/plain": [
       "{'roll_number': 123,\n",
       " 'marks': [15, 46, 35],\n",
       " 'subject': ['computers', 'maths', 'science'],\n",
       " 'Year': '4th'}"
      ]
     },
     "execution_count": 61,
     "metadata": {},
     "output_type": "execute_result"
    }
   ],
   "source": [
    "my_dict['Year'] = '4th'\n",
    "my_dict"
   ]
  },
  {
   "cell_type": "code",
   "execution_count": 62,
   "id": "61f7c75b",
   "metadata": {},
   "outputs": [
    {
     "data": {
      "text/plain": [
       "{'roll_number': 99,\n",
       " 'marks': [15, 46, 35],\n",
       " 'subject': ['computers', 'maths', 'science'],\n",
       " 'Year': '4th'}"
      ]
     },
     "execution_count": 62,
     "metadata": {},
     "output_type": "execute_result"
    }
   ],
   "source": [
    "my_dict.update({'roll_number' : 99})\n",
    "my_dict"
   ]
  },
  {
   "cell_type": "code",
   "execution_count": 64,
   "id": "c6a1e902",
   "metadata": {},
   "outputs": [
    {
     "data": {
      "text/plain": [
       "dict_items([('roll_number', 99), ('marks', [15, 46, 35]), ('subject', ['computers', 'maths', 'science']), ('Year', '4th')])"
      ]
     },
     "execution_count": 64,
     "metadata": {},
     "output_type": "execute_result"
    }
   ],
   "source": [
    "my_dict.items()"
   ]
  },
  {
   "cell_type": "code",
   "execution_count": 66,
   "id": "6a8210f4",
   "metadata": {},
   "outputs": [
    {
     "data": {
      "text/plain": [
       "dict_keys(['roll_number', 'marks', 'subject', 'Year'])"
      ]
     },
     "execution_count": 66,
     "metadata": {},
     "output_type": "execute_result"
    }
   ],
   "source": [
    "my_dict.keys()"
   ]
  },
  {
   "cell_type": "code",
   "execution_count": 67,
   "id": "8cc30494",
   "metadata": {},
   "outputs": [
    {
     "name": "stdout",
     "output_type": "stream",
     "text": [
      "it is less than 10\n"
     ]
    }
   ],
   "source": [
    "i = 9\n",
    "\n",
    "if i <10:\n",
    "    print('it is less than 10')\n",
    "else:\n",
    "    print('it is somthing else')"
   ]
  },
  {
   "cell_type": "code",
   "execution_count": 68,
   "id": "ef713738",
   "metadata": {},
   "outputs": [
    {
     "name": "stdout",
     "output_type": "stream",
     "text": [
      "it is somthing else\n"
     ]
    }
   ],
   "source": [
    "i = 18\n",
    "\n",
    "if i <10:\n",
    "    print('it is less than 10')\n",
    "else:\n",
    "    print('it is somthing else')"
   ]
  },
  {
   "cell_type": "code",
   "execution_count": 69,
   "id": "91cfa944",
   "metadata": {},
   "outputs": [
    {
     "name": "stdout",
     "output_type": "stream",
     "text": [
      "it is somthing else\n"
     ]
    }
   ],
   "source": [
    "print('it is less than 10')if i <10 else print('it is somthing else')"
   ]
  },
  {
   "cell_type": "code",
   "execution_count": 71,
   "id": "6cc2ff32",
   "metadata": {},
   "outputs": [
    {
     "name": "stdout",
     "output_type": "stream",
     "text": [
      "please add 100 Rs worth of an item for free shipping\n"
     ]
    }
   ],
   "source": [
    "item_1 = 200\n",
    "item_2 = 200\n",
    "if(item_1+item_2)>=500:\n",
    "    print(\"you are eligible for free shipping\")\n",
    "else:\n",
    "    extra = 500-(item_1+item_2)\n",
    "    print('please add',extra,'Rs worth of an item for free shipping')"
   ]
  },
  {
   "cell_type": "code",
   "execution_count": 72,
   "id": "445269f0",
   "metadata": {},
   "outputs": [
    {
     "name": "stdout",
     "output_type": "stream",
     "text": [
      "both are not true\n"
     ]
    }
   ],
   "source": [
    "a = 300\n",
    "b = 44\n",
    "c = 500\n",
    "if a>b and c<a:\n",
    "    print(\"both conditions are true\")\n",
    "    \n",
    "else:\n",
    "    print(\"both are not true\")"
   ]
  },
  {
   "cell_type": "code",
   "execution_count": 73,
   "id": "8dcd4bb9",
   "metadata": {},
   "outputs": [
    {
     "name": "stdout",
     "output_type": "stream",
     "text": [
      "both conditions are true\n"
     ]
    }
   ],
   "source": [
    "a = 300\n",
    "b = 44\n",
    "c = 500\n",
    "if a>b or c<a:\n",
    "    print(\"both conditions are true\")\n",
    "    \n",
    "else:\n",
    "    print(\"both are not true\")"
   ]
  },
  {
   "cell_type": "code",
   "execution_count": 84,
   "id": "2ed5370d",
   "metadata": {},
   "outputs": [
    {
     "name": "stdout",
     "output_type": "stream",
     "text": [
      "23  - Fail-Better luck next time\n"
     ]
    }
   ],
   "source": [
    "marks = 23\n",
    "if marks>=60:\n",
    "    if marks>70:\n",
    "        print('marks','-Distinction')\n",
    "    else:\n",
    "        print('marks','-First class')\n",
    "elif marks>50 and marks <=60:\n",
    "    print('marks','-second class')\n",
    "elif marks>35:\n",
    "    print( marks,'-pass')\n",
    "else:\n",
    "    print(marks , ' - Fail-Better luck next time')\n",
    "    \n",
    "    \n"
   ]
  },
  {
   "cell_type": "code",
   "execution_count": 86,
   "id": "0781695d",
   "metadata": {},
   "outputs": [
    {
     "name": "stdout",
     "output_type": "stream",
     "text": [
      "its greater than 25\n"
     ]
    }
   ],
   "source": [
    "num1 = 20\n",
    "num2 = 30\n",
    "if num1=='20':\n",
    "    print('its not 20')\n",
    "elif num2 >25:\n",
    "    print('its greater than 25')"
   ]
  },
  {
   "cell_type": "code",
   "execution_count": null,
   "id": "f5c2e4ce",
   "metadata": {},
   "outputs": [],
   "source": []
  }
 ],
 "metadata": {
  "kernelspec": {
   "display_name": "Python 3 (ipykernel)",
   "language": "python",
   "name": "python3"
  },
  "language_info": {
   "codemirror_mode": {
    "name": "ipython",
    "version": 3
   },
   "file_extension": ".py",
   "mimetype": "text/x-python",
   "name": "python",
   "nbconvert_exporter": "python",
   "pygments_lexer": "ipython3",
   "version": "3.9.12"
  }
 },
 "nbformat": 4,
 "nbformat_minor": 5
}
